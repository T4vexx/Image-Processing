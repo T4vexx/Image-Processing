{
 "cells": [
  {
   "cell_type": "markdown",
   "metadata": {},
   "source": [
    "Images filters"
   ]
  },
  {
   "cell_type": "code",
   "execution_count": 69,
   "metadata": {},
   "outputs": [
    {
     "name": "stdout",
     "output_type": "stream",
     "text": [
      "3x3 window median\n",
      "[[121.  115.   84.   34. ]\n",
      " [115.  115.   98.   34. ]\n",
      " [ 88.  103.   49.   43.5]\n",
      " [ 17.  100.5  68.   68. ]]\n",
      "\n",
      "5x5 window median\n",
      "[[121.  107.   88.   91.5  84. ]\n",
      " [118.   98.5  87.5  91.   91. ]\n",
      " [103.   98.5  87.   91.   84. ]\n",
      " [ 95.5  98.5  87.5  98.5  73.5]\n",
      " [ 88.   93.   49.   73.5  49. ]]\n"
     ]
    }
   ],
   "source": [
    "import numpy as np\n",
    "\n",
    "mat = np.array([[121, 20, 198, 84, 4],[87, 188, 189, 99, 8],[88, 115, 134, 49, 19],[16, 18, 187, 98, 9],[12, 103, 15, 176, 38]])\n",
    "\n",
    "#Consider a digital image represented by a 5 x 5 matrix, as shown below. The central pixel is a reference point. Provide the resulting value of the central pixel if the image is processed.\n",
    "#A) by the median filter algorithm with a 3 x 3 window;\n",
    "mat3x3 = np.zeros((7,7))\n",
    "mat3x3[1:6,1:6] = mat\n",
    "mat3x3result = np.zeros_like(mat, dtype=np.float64)\n",
    "for i in range(mat.shape[0]):\n",
    "  for j in range(mat.shape[1]):\n",
    "    temp = mat[i-1:i+2, j-1:j+2]\n",
    "    temp = np.extract(temp != 0, temp)\n",
    "    if len(temp) != 0:\n",
    "      mat3x3result[i,j] = np.median(temp)\n",
    "print(\"3x3 window median\")\n",
    "print(mat3x3result[1:6, 1:6])\n",
    "\n",
    "#B) by the median filter algorithm with a 5 x 5 window;\n",
    "mat5x5 = np.zeros((9,9))\n",
    "mat5x5[2:7,2:7] = mat\n",
    "mat5x5result = np.zeros_like(mat5x5, dtype=np.float64)\n",
    "for i in range(mat5x5.shape[0]):\n",
    "  for j in range(mat5x5.shape[1]):\n",
    "    temp = mat5x5[i-2:i+3, j-2:j+3]\n",
    "    temp = np.extract(temp != 0, temp)\n",
    "    if len(temp) != 0:\n",
    "      mat5x5result[i,j] = np.median(temp)\n",
    "print(\"\")\n",
    "print(\"5x5 window median\")\n",
    "print(mat5x5result[2:7, 2:7])\n"
   ]
  }
 ],
 "metadata": {
  "kernelspec": {
   "display_name": "base",
   "language": "python",
   "name": "python3"
  },
  "language_info": {
   "codemirror_mode": {
    "name": "ipython",
    "version": 3
   },
   "file_extension": ".py",
   "mimetype": "text/x-python",
   "name": "python",
   "nbconvert_exporter": "python",
   "pygments_lexer": "ipython3",
   "version": "3.12.7"
  }
 },
 "nbformat": 4,
 "nbformat_minor": 2
}
