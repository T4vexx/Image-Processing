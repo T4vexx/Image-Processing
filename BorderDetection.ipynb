{
 "cells": [
  {
   "cell_type": "markdown",
   "metadata": {},
   "source": [
    "# This file contains a introduction about border detection in images \n",
    "### The first node is about the image that is gone be studied"
   ]
  },
  {
   "cell_type": "code",
   "execution_count": 11,
   "metadata": {},
   "outputs": [
    {
     "data": {
      "image/png": "[encoded data removed]",
      "text/plain": [
       "<Figure size 640x480 with 1 Axes>"
      ]
     },
     "metadata": {},
     "output_type": "display_data"
    }
   ],
   "source": [
    "import numpy as np\n",
    "from matplotlib import pyplot as plt\n",
    "\n",
    "def createImage():\n",
    "  mac = np.full((13,14), 255, dtype=np.uint)\n",
    "  for i in range(13):\n",
    "    for j in range(14):\n",
    "      if(i==1 and j>=2 and j<=5):\n",
    "        mac[i,j]=0\n",
    "      if(i==2 and j>=3 and j<=4):\n",
    "        mac[i,j]=0\n",
    "      if(i>=2 and i<=6 and j>=9 and j<=10):\n",
    "        mac[i,j]=0\n",
    "      if(i==5 and j>=7 and j<=8):\n",
    "        mac[i,j]=0\n",
    "      if(i==6 and j>=7 and j<=8):\n",
    "        mac[i,j]=0\n",
    "      if(i==7 and j>=4 and j<=6):\n",
    "        mac[i,j]=0\n",
    "      if(i==8 and j>=3 and j<=7):\n",
    "        mac[i,j]=0\n",
    "      if(i==9 and j>=4 and j<=6):\n",
    "        mac[i,j]=0\n",
    "      if(i==10 and j==5):\n",
    "        mac[i,j]=0\n",
    "  return mac\n",
    "    \n",
    "mac = createImage()\n",
    "plt.imshow(mac, cmap='jet', vmin=0, vmax=1024)\n",
    "plt.show()"
   ]
  },
  {
   "cell_type": "code",
   "execution_count": 12,
   "metadata": {},
   "outputs": [
    {
     "name": "stdout",
     "output_type": "stream",
     "text": [
      "Objects with 4 neighborhood 3\n"
     ]
    },
    {
     "data": {
      "image/png": "[encoded data removed]",
      "text/plain": [
       "<Figure size 640x480 with 1 Axes>"
      ]
     },
     "metadata": {},
     "output_type": "display_data"
    }
   ],
   "source": [
    "# Four neighborhood verification\n",
    "\n",
    "count = 0\n",
    "countcolor=1\n",
    "def verifica4neighborhood(mac, i, j, cor):\n",
    "  mac[i,j]=cor\n",
    "  if mac[i-1,j]==0:\n",
    "    verifica4neighborhood(mac, i-1, j, cor)\n",
    "  if mac[i+1,j] == 0:\n",
    "    verifica4neighborhood(mac, i+1, j, cor)\n",
    "  if mac[i,j-1] == 0:\n",
    "    verifica4neighborhood(mac, i, j-1, cor)\n",
    "  if mac[i,j+1] == 0:\n",
    "    verifica4neighborhood(mac, i, j+1, cor)\n",
    "  return True\n",
    "\n",
    "mac = createImage()\n",
    "for i in range(13):\n",
    "  for j in range(14):\n",
    "    if mac[i,j]==0:\n",
    "      resp = verifica4neighborhood(mac, i, j, countcolor*60)\n",
    "      if resp == True:\n",
    "        count += 1\n",
    "        countcolor += 2\n",
    "\n",
    "\n",
    "print(\"Objects with 4 neighborhood\", count)\n",
    "plt.imshow(mac, cmap='jet', vmin=0, vmax=1024)\n",
    "plt.show()"
   ]
  },
  {
   "cell_type": "code",
   "execution_count": 13,
   "metadata": {},
   "outputs": [
    {
     "name": "stdout",
     "output_type": "stream",
     "text": [
      "2\n"
     ]
    },
    {
     "data": {
      "image/png": "[encoded data removed]",
      "text/plain": [
       "<Figure size 640x480 with 1 Axes>"
      ]
     },
     "metadata": {},
     "output_type": "display_data"
    }
   ],
   "source": [
    "# Eight neighborhood verification\n",
    "\n",
    "count = 0\n",
    "countcolor=1\n",
    "def verifica8neighborhood(mac, i, j, cor):\n",
    "  mac[i,j]=cor\n",
    "  if mac[i-1,j]==0:\n",
    "    verifica8neighborhood(mac, i-1, j, cor)\n",
    "  if mac[i+1,j] == 0:\n",
    "    verifica8neighborhood(mac, i+1, j, cor)\n",
    "  if mac[i,j-1] == 0:\n",
    "    verifica8neighborhood(mac, i, j-1, cor)\n",
    "  if mac[i,j+1] == 0:\n",
    "    verifica8neighborhood(mac, i, j+1, cor)\n",
    "  if mac[i-1,j-1]==0:\n",
    "    verifica8neighborhood(mac, i-1, j-1, cor)\n",
    "  if mac[i+1,j-1] == 0:\n",
    "    verifica8neighborhood(mac, i+1, j-1, cor)\n",
    "  if mac[i-1,j+1] == 0:\n",
    "    verifica8neighborhood(mac, i-1, j+1, cor)\n",
    "  if mac[i+1,j+1] == 0:\n",
    "    verifica8neighborhood(mac, i+1, j+1, cor)\n",
    "  return True\n",
    "\n",
    "mac = createImage()\n",
    "for i in range(13):\n",
    "  for j in range(14):\n",
    "    if mac[i,j]==0:\n",
    "      resp = verifica8neighborhood(mac, i, j, countcolor*60)\n",
    "      if resp == True:\n",
    "        count += 1\n",
    "        countcolor += 2\n",
    "\n",
    "\n",
    "print(\"Objects with 8 neighborhood\", count)\n",
    "plt.imshow(mac, cmap='jet', vmin=0, vmax=1024)\n",
    "plt.show()"
   ]
  }
 ],
 "metadata": {
  "kernelspec": {
   "display_name": "Python 3",
   "language": "python",
   "name": "python3"
  },
  "language_info": {
   "codemirror_mode": {
    "name": "ipython",
    "version": 3
   },
   "file_extension": ".py",
   "mimetype": "text/x-python",
   "name": "python",
   "nbconvert_exporter": "python",
   "pygments_lexer": "ipython3",
   "version": "3.13.2"
  }
 },
 "nbformat": 4,
 "nbformat_minor": 2
}
